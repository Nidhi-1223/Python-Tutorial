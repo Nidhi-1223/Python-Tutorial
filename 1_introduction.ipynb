{
 "cells": [
  {
   "attachments": {},
   "cell_type": "markdown",
   "metadata": {},
   "source": [
    "# ACT - Lecture 1\n",
    "*Table of contents*\n",
    "1. Introduction\n",
    "2. Applications, features and flavours of python\n",
    "3. Datatypes and identifiers\n",
    "4. Memory management\n",
    "5. Typecasting\n",
    "6. Collection Datatypes\n",
    "    - list\n",
    "    - tuple\n",
    "    - set\n",
    "    - frozenset\n",
    "    - dictionaries\n",
    "7. Operators\n",
    "8. Conditional statements\n",
    "    - If else statements\n",
    "9. Loops \n",
    "    - for loop\n",
    "        - break and continue statements"
   ]
  },
  {
   "attachments": {},
   "cell_type": "markdown",
   "metadata": {},
   "source": [
    "python developed by Guido Van Rossum and made it available on Feb 20th, 1991. <br>\n",
    "VBA, Macros - tools for data analysis after Excel.<br>\n",
    "Python inherits the features from C, C++, Script.<br>\n",
    "\n",
    "### Application of python\n",
    "1. Desktop based Software\n",
    "2. Database application\n",
    "3. Game development\n",
    "4. AI&ML\n",
    "5. Web Developement (YT's recommendation system)\n",
    "6. IoT\n",
    "\n",
    "### Features\n",
    "1. High level\n",
    "2. Portable (Write once, read anywhere i.e. it is platform independent language)\n",
    "3. Dynamic\n",
    "4. Extensible\n",
    "5. Simple & Easy\n",
    "6. Freeware & Opensource\n",
    "7. Embedded\n",
    "8. Extensive Library\n",
    "9. Object Oriented Concept\n",
    "10. GUI\n",
    "\n",
    "### Flavours of python\n",
    "1. Cpython - to work with c lang app\n",
    "2. Jpython - to work with java lang app\n",
    "3. Iron python - to work with C# .net app\n",
    "4. Ruby python - to work with ruby app\n",
    "5. Anaconda python - for ML, DL, DS\n",
    "\n",
    "## What is a datatype?\n",
    "Tells the type of value stored in a variable \n",
    "the python virtual machine internally determines the data type and we dont need to explicitly code it"
   ]
  },
  {
   "cell_type": "code",
   "execution_count": 3,
   "metadata": {},
   "outputs": [
    {
     "data": {
      "text/plain": [
       "(int, float, bool, str)"
      ]
     },
     "execution_count": 3,
     "metadata": {},
     "output_type": "execute_result"
    }
   ],
   "source": [
    "\n",
    "p = 12 \n",
    "q = 12.34\n",
    "r = True\n",
    "s = 'ksjfkls'\n",
    "\n",
    "type(p), type(q),type(r), type(s)"
   ]
  },
  {
   "attachments": {},
   "cell_type": "markdown",
   "metadata": {},
   "source": [
    "## Indentifiers in python\n",
    "The name of variables, functions, class etc\n",
    "\n",
    "**Rules** :\n",
    "1. cant START with a digit, it has to be an alphabet\n",
    "2. they are case sensitive\n",
    "3. reserve words(key words) should not be allowed to declare as indenitifier\n",
    "4. spaces are not allowed\n",
    "5. no special symbol except underscore\n",
    "6. If it start with a single underscore the it is a PRIVATE indenitifier\n",
    "7. If it start with 2 underscores the it is a STRONGLY PRIVATE indenitifier"
   ]
  },
  {
   "attachments": {},
   "cell_type": "markdown",
   "metadata": {},
   "source": [
    "## String Slicing\n",
    "Strings have both positive(starts from 0 - goes left to right) and negative indexing(starts from -1 - goes right to left)"
   ]
  },
  {
   "cell_type": "code",
   "execution_count": 13,
   "metadata": {},
   "outputs": [
    {
     "name": "stdout",
     "output_type": "stream",
     "text": [
      "g\n",
      "s\n",
      "gesonrs\n"
     ]
    }
   ],
   "source": [
    "string = 'geeksfornerds'\n",
    "print(string[0])\n",
    "print(string[-1])\n",
    "print(string[0:-1:2])"
   ]
  },
  {
   "attachments": {},
   "cell_type": "markdown",
   "metadata": {},
   "source": [
    "## Memory Management\n"
   ]
  },
  {
   "cell_type": "code",
   "execution_count": 23,
   "metadata": {},
   "outputs": [
    {
     "name": "stdout",
     "output_type": "stream",
     "text": [
      "140062582245136\n",
      "140062582245136\n",
      "140062582245136\n",
      "140062582244816\n",
      "the memory location for evs when the values was 49 is - 140062582245104\n",
      "the memory location for evs when the values was 39 is - 140062582244784\n"
     ]
    }
   ],
   "source": [
    "math = 50\n",
    "phy = 50\n",
    "chem = 50\n",
    "eng = 40\n",
    "print(id(math))\n",
    "print(id(phy))\n",
    "print(id(chem))\n",
    "print(id(eng))\n",
    "\n",
    "#you can see that the memory address of math, phy and chem are the same as they have the same value and all the three variables are referencing to the same memory bit\n",
    "\n",
    "evs = 49\n",
    "print(f'the memory location for evs when the values was 49 is - {id(evs)}')\n",
    "evs = 39\n",
    "print(f'the memory location for evs when the values was 39 is - {id(evs)}')\n"
   ]
  },
  {
   "attachments": {},
   "cell_type": "markdown",
   "metadata": {},
   "source": [
    "## Typecasting\n",
    "\n",
    "Conversion of one data type to another is called Typecasting. <br>\n",
    "Input function will always accept value as `string`. <br>\n",
    "thats we typecast them into the required datatype. <br>\n",
    "\n",
    "We can't typecast complex values"
   ]
  },
  {
   "cell_type": "code",
   "execution_count": 35,
   "metadata": {},
   "outputs": [
    {
     "name": "stdout",
     "output_type": "stream",
     "text": [
      "<class 'complex'>\n"
     ]
    }
   ],
   "source": [
    "a = 9 + 4j\n",
    "print(type(a))\n",
    "# print(int(a))         #throws an error\n",
    "\n"
   ]
  },
  {
   "cell_type": "code",
   "execution_count": 36,
   "metadata": {},
   "outputs": [
    {
     "name": "stdout",
     "output_type": "stream",
     "text": [
      "(3+0j)\n",
      "(12.5+0j)\n",
      "(1+0j)\n",
      "0j\n",
      "(5-3j)\n"
     ]
    }
   ],
   "source": [
    "print(complex(3))\n",
    "print(complex(12.5))\n",
    "print(complex(True))\n",
    "print(complex(False))\n",
    "print(complex(5,-3))\n",
    "# print(complex('name'))            #throws an error"
   ]
  },
  {
   "cell_type": "code",
   "execution_count": 42,
   "metadata": {},
   "outputs": [
    {
     "name": "stdout",
     "output_type": "stream",
     "text": [
      "False\n",
      "True\n",
      "True\n",
      "True\n"
     ]
    }
   ],
   "source": [
    "print(bool(0))\n",
    "print(bool(89))\n",
    "# print(bool(0,0))          #Throws an error\n",
    "print(bool(1+2j))\n",
    "print(bool(-1))"
   ]
  },
  {
   "cell_type": "code",
   "execution_count": 24,
   "metadata": {},
   "outputs": [
    {
     "name": "stdout",
     "output_type": "stream",
     "text": [
      "<class 'str'> <class 'str'>\n"
     ]
    }
   ],
   "source": [
    "a = input('Enter a value for a')\n",
    "b = input('Enter a value for b')\n",
    "print(a, b)\n",
    "print(type(a), type(b))"
   ]
  },
  {
   "cell_type": "code",
   "execution_count": 26,
   "metadata": {},
   "outputs": [
    {
     "name": "stdout",
     "output_type": "stream",
     "text": [
      "67 89\n",
      "<class 'int'> <class 'int'>\n"
     ]
    }
   ],
   "source": [
    "#typecasting while taking input\n",
    "a = int(input('Enter a value for a'))\n",
    "b = int(input('Enter a value for b'))\n",
    "print(a,b)\n",
    "print(type(a), type(b))"
   ]
  },
  {
   "attachments": {},
   "cell_type": "markdown",
   "metadata": {},
   "source": [
    "## Collection Datatypes\n",
    "\n",
    "### List\n",
    "Indexing starts with 0 <br>\n",
    "\n",
    "**Used for** \n",
    "1. ordered data\n",
    "2. storing heterogeneous data is possible\n",
    "3. represented by [] (square brackets)\n",
    "4. duplicate values can be stored\n",
    "5. doesn't have a fixed sized, it's growable\n",
    "6. It is mutable\n",
    "\n",
    "**Operations used** \n",
    "1. append()\n",
    "2. remove()\n",
    "3. insert()\n",
    "4. del()\n",
    "5. clear()\n"
   ]
  },
  {
   "cell_type": "code",
   "execution_count": 46,
   "metadata": {},
   "outputs": [
    {
     "name": "stdout",
     "output_type": "stream",
     "text": [
      "['abc', 'cfg', 45, True, 34.78]\n",
      "abc\n",
      "34.78\n",
      "['cfg', 45, True]\n"
     ]
    }
   ],
   "source": [
    "mylist = ['abc', 'cfg', 45, True, 34.78]\n",
    "print(mylist)\n",
    "\n",
    "#slicing\n",
    "print(mylist[0])\n",
    "print(mylist[-1])\n",
    "print(mylist[1:4])"
   ]
  },
  {
   "cell_type": "code",
   "execution_count": 48,
   "metadata": {},
   "outputs": [
    {
     "name": "stdout",
     "output_type": "stream",
     "text": [
      "['abc', 'cfg', 45, True, 34.78, 'fsj', 'fsj']\n"
     ]
    }
   ],
   "source": [
    "mylist.append('fsj')\n",
    "# print(mylist)"
   ]
  },
  {
   "cell_type": "code",
   "execution_count": 49,
   "metadata": {},
   "outputs": [
    {
     "name": "stdout",
     "output_type": "stream",
     "text": [
      "['abc', 'cfg', 45, True, 34.78, 'fsj', 'fsj']\n"
     ]
    }
   ],
   "source": [
    "print(mylist)"
   ]
  },
  {
   "cell_type": "code",
   "execution_count": 50,
   "metadata": {},
   "outputs": [],
   "source": [
    "mylist.remove('fsj')"
   ]
  },
  {
   "cell_type": "code",
   "execution_count": 51,
   "metadata": {},
   "outputs": [
    {
     "name": "stdout",
     "output_type": "stream",
     "text": [
      "['abc', 'cfg', 45, True, 34.78, 'fsj']\n"
     ]
    }
   ],
   "source": [
    "print(mylist)"
   ]
  },
  {
   "cell_type": "code",
   "execution_count": 52,
   "metadata": {},
   "outputs": [],
   "source": [
    "mylist.insert(3, 'vaishali')"
   ]
  },
  {
   "cell_type": "code",
   "execution_count": 53,
   "metadata": {},
   "outputs": [
    {
     "name": "stdout",
     "output_type": "stream",
     "text": [
      "['abc', 'cfg', 45, 'vaishali', True, 34.78, 'fsj']\n"
     ]
    }
   ],
   "source": [
    "print(mylist)"
   ]
  },
  {
   "cell_type": "code",
   "execution_count": 54,
   "metadata": {},
   "outputs": [
    {
     "name": "stdout",
     "output_type": "stream",
     "text": [
      "['abc', 'cfg', 45, 'vaishali', True, 34.78, 'fsj']\n"
     ]
    }
   ],
   "source": [
    "newlist = mylist.copy()\n",
    "print(newlist)"
   ]
  },
  {
   "attachments": {},
   "cell_type": "markdown",
   "metadata": {},
   "source": [
    "#### Nested list"
   ]
  },
  {
   "cell_type": "code",
   "execution_count": 58,
   "metadata": {},
   "outputs": [
    {
     "name": "stdout",
     "output_type": "stream",
     "text": [
      "[['nidhi', 'worah'], [45.67], ['907', 'yyyy']]\n",
      "nidhi\n",
      "worah\n",
      "yyyy\n"
     ]
    }
   ],
   "source": [
    "nested_list = [['nidhi','worah'],[45.67],['907','yyyy']]\n",
    "print(nested_list)\n",
    "print(nested_list[0][0])\n",
    "print(nested_list[0][1])\n",
    "print(nested_list[2][1])"
   ]
  },
  {
   "cell_type": "code",
   "execution_count": 60,
   "metadata": {},
   "outputs": [
    {
     "name": "stdout",
     "output_type": "stream",
     "text": [
      "['element1', 'element2', 'element1', 'element2']\n",
      "['element1', 'element2', 7890.09]\n"
     ]
    }
   ],
   "source": [
    "list1 = ['element1', 'element2']\n",
    "list2 = [7890.09]\n",
    "print(list1*2)\n",
    "print(list1 + list2)"
   ]
  },
  {
   "cell_type": "code",
   "execution_count": 61,
   "metadata": {},
   "outputs": [],
   "source": [
    "del mylist[3]"
   ]
  },
  {
   "cell_type": "code",
   "execution_count": 63,
   "metadata": {},
   "outputs": [
    {
     "name": "stdout",
     "output_type": "stream",
     "text": [
      "['abc', 'cfg', 45, True, 34.78, 'fsj']\n"
     ]
    }
   ],
   "source": [
    "print(mylist)"
   ]
  },
  {
   "cell_type": "code",
   "execution_count": 62,
   "metadata": {},
   "outputs": [
    {
     "name": "stdout",
     "output_type": "stream",
     "text": [
      "[]\n"
     ]
    }
   ],
   "source": [
    "newlist.clear()\n",
    "print(newlist)"
   ]
  },
  {
   "cell_type": "code",
   "execution_count": 70,
   "metadata": {},
   "outputs": [
    {
     "name": "stdout",
     "output_type": "stream",
     "text": [
      "['n', 'i', 'd', 'h', 'i']\n",
      "['i', 'h', 'd', 'i', 'n']\n",
      "['n', 'i', 'i', 'h', 'd']\n"
     ]
    }
   ],
   "source": [
    "#typecasting into a list\n",
    "name = 'nidhi'\n",
    "name_list = list(name)\n",
    "print( name_list)\n",
    "name_list.reverse()\n",
    "print(name_list)\n",
    "name_list.sort(reverse=True)\n",
    "print(name_list)\n"
   ]
  },
  {
   "attachments": {},
   "cell_type": "markdown",
   "metadata": {},
   "source": [
    "### Tuple\n",
    "Indexing starts with 0 <br>\n",
    "\n",
    "**Used for** \n",
    "1. ordered data\n",
    "2. storing heterogeneous data is possible\n",
    "3. represented by () (paranthesis)\n",
    "4. duplicate values can be stored\n",
    "5. doesn't have a fixed sized, it's growable\n",
    "6. It is immutable\n",
    "\n",
    "**Operations used** \n",
    "1. append()\n",
    "2. remove()\n",
    "3. insert()\n",
    "4. del()\n",
    "5. clear()"
   ]
  },
  {
   "cell_type": "code",
   "execution_count": 1,
   "metadata": {},
   "outputs": [
    {
     "name": "stdout",
     "output_type": "stream",
     "text": [
      "('abc', 'cfg', 45, True, 34.78)\n",
      "True\n"
     ]
    }
   ],
   "source": [
    "mytuple = ('abc', 'cfg', 45, True, 34.78)\n",
    "print(mytuple)\n",
    "print(mytuple[3])\n",
    "# mytuple[1] = 'sunil'\n",
    "# print(mytuple)            ## tuples are immutable, therefore this gives out an erro"
   ]
  },
  {
   "cell_type": "code",
   "execution_count": 2,
   "metadata": {},
   "outputs": [],
   "source": [
    "tuple1 = ('element1', 'element2')\n",
    "tuple2 = (89, 45.56)"
   ]
  },
  {
   "cell_type": "code",
   "execution_count": 3,
   "metadata": {},
   "outputs": [
    {
     "name": "stdout",
     "output_type": "stream",
     "text": [
      "('element1', 'element2', 89, 45.56)\n"
     ]
    }
   ],
   "source": [
    "tuple21 = tuple1 + tuple2\n",
    "print(tuple21)"
   ]
  },
  {
   "cell_type": "code",
   "execution_count": 4,
   "metadata": {},
   "outputs": [
    {
     "data": {
      "text/plain": [
       "'element1'"
      ]
     },
     "execution_count": 4,
     "metadata": {},
     "output_type": "execute_result"
    }
   ],
   "source": [
    "tuple21[0]"
   ]
  },
  {
   "attachments": {},
   "cell_type": "markdown",
   "metadata": {},
   "source": [
    "#### Set\n",
    "Used when we dont wanna allow duplication of values and to represent random data\n",
    "\n",
    "1. no order wise data (random)\n",
    "2. heterogeneous data are allowed\n",
    "3. representation by {} \n",
    "4. duplicate data are not allowed\n",
    "5. doesn't have a fixed sized, it's growable\n",
    "6. It is mutable (changeable)\n",
    "\n",
    "**operations** :\n",
    "1. add()"
   ]
  },
  {
   "cell_type": "code",
   "execution_count": 5,
   "metadata": {},
   "outputs": [
    {
     "name": "stdout",
     "output_type": "stream",
     "text": [
      "{True, 34.78, 'cfg', 45, 'abc'}\n"
     ]
    }
   ],
   "source": [
    "myset = {'abc', 'cfg', 45, True, 34.78}\n",
    "print(myset)\n",
    "#generates random sequence of the data everytime you print it"
   ]
  },
  {
   "cell_type": "code",
   "execution_count": 6,
   "metadata": {},
   "outputs": [
    {
     "data": {
      "text/plain": [
       "{34.78, 45, 78, True, 'abc', 'cfg'}"
      ]
     },
     "execution_count": 6,
     "metadata": {},
     "output_type": "execute_result"
    }
   ],
   "source": [
    "myset.add(78)\n",
    "myset"
   ]
  },
  {
   "cell_type": "code",
   "execution_count": 8,
   "metadata": {},
   "outputs": [
    {
     "data": {
      "text/plain": [
       "{3, 34.78, 45, 5, 7, 78, 9, True, 'abc', 'cfg'}"
      ]
     },
     "execution_count": 8,
     "metadata": {},
     "output_type": "execute_result"
    }
   ],
   "source": [
    "myset.update(range(1,10,2))\n",
    "myset"
   ]
  },
  {
   "cell_type": "code",
   "execution_count": 10,
   "metadata": {},
   "outputs": [
    {
     "data": {
      "text/plain": [
       "{3, 34.78, 45, 5, 7, 78, 9, True, 'abc', 'cfg'}"
      ]
     },
     "execution_count": 10,
     "metadata": {},
     "output_type": "execute_result"
    }
   ],
   "source": [
    "myset.discard(69)\n",
    "myset"
   ]
  },
  {
   "cell_type": "code",
   "execution_count": 11,
   "metadata": {},
   "outputs": [
    {
     "ename": "KeyError",
     "evalue": "69",
     "output_type": "error",
     "traceback": [
      "\u001b[0;31m---------------------------------------------------------------------------\u001b[0m",
      "\u001b[0;31mKeyError\u001b[0m                                  Traceback (most recent call last)",
      "\u001b[1;32m/home/hp/Documents/College/Coding/ACT - Technical/Lecture-1.ipynb Cell 37\u001b[0m in \u001b[0;36m<cell line: 1>\u001b[0;34m()\u001b[0m\n\u001b[0;32m----> <a href='vscode-notebook-cell:/home/hp/Documents/College/Coding/ACT%20-%20Technical/Lecture-1.ipynb#X60sZmlsZQ%3D%3D?line=0'>1</a>\u001b[0m myset\u001b[39m.\u001b[39;49mremove(\u001b[39m69\u001b[39;49m)\n",
      "\u001b[0;31mKeyError\u001b[0m: 69"
     ]
    }
   ],
   "source": [
    "# myset.remove(69)\n",
    "#throws an error"
   ]
  },
  {
   "attachments": {},
   "cell_type": "markdown",
   "metadata": {},
   "source": [
    "**NOTE** \n",
    "when we're not sure if the value we want to remove is present in the set or not then we used `discard()` function and if we're sure that the element is present for sure then we use `remove()` function"
   ]
  },
  {
   "cell_type": "code",
   "execution_count": 15,
   "metadata": {},
   "outputs": [
    {
     "name": "stdout",
     "output_type": "stream",
     "text": [
      "{'worah', 50, 20, 10, 'nidhi', 60}\n",
      "{'nidhi'}\n",
      "{50, 10, 20, 60}\n",
      "{'worah'}\n"
     ]
    }
   ],
   "source": [
    "set1 = {10,20,50,60,'nidhi'}\n",
    "set2 = {'nidhi', 'worah'}\n",
    "\n",
    "#union\n",
    "union_set = set1.union(set2)\n",
    "print(union_set)\n",
    "\n",
    "#intersection\n",
    "print(set1.intersection(set2))\n",
    "\n",
    "#difference \n",
    "\n",
    "'''\n",
    "prints the value present in set 1 and not in set 2\n",
    "'''\n",
    "print(set1.difference(set2))\n",
    "\n",
    "'''\n",
    "prints the value present in set 2 and not in set 1\n",
    "'''\n",
    "print(set2.difference(set1))\n"
   ]
  },
  {
   "attachments": {},
   "cell_type": "markdown",
   "metadata": {},
   "source": [
    "### Frozenset\n",
    "the difference between set and frozenset is that fs is immutable. That's it! Bas! "
   ]
  },
  {
   "cell_type": "code",
   "execution_count": 16,
   "metadata": {},
   "outputs": [
    {
     "name": "stdout",
     "output_type": "stream",
     "text": [
      "<class 'frozenset'>\n",
      "frozenset({True, 34.78, 3, 5, 7, 9, 45, 78, 'abc', 'cfg'})\n"
     ]
    }
   ],
   "source": [
    "fs = frozenset(myset)\n",
    "print(type(fs))\n",
    "print(fs)"
   ]
  },
  {
   "attachments": {},
   "cell_type": "markdown",
   "metadata": {},
   "source": [
    "#### Dictionary \n",
    "stores data in key-value pair\n",
    "\n",
    "**used for** :\n",
    "\n",
    "1. unordered\n",
    "2. key value pair\n",
    "3. duplicate keys are not allowed\n",
    "4. duplicate values are allowed\n",
    "5. growable\n",
    "6. mutable "
   ]
  },
  {
   "cell_type": "code",
   "execution_count": 25,
   "metadata": {},
   "outputs": [
    {
     "data": {
      "text/plain": [
       "{101: 'new value added',\n",
       " 102: 'nidhi',\n",
       " 103: 'roy',\n",
       " 104: 'roy',\n",
       " 'duplictate': 'dsijfkl',\n",
       " 105: 5}"
      ]
     },
     "execution_count": 25,
     "metadata": {},
     "output_type": "execute_result"
    }
   ],
   "source": [
    "mydictionary = {\n",
    "    101 : 'prashant', \n",
    "    102 : 'nidhi',\n",
    "    103 : 'roy',\n",
    "    104 : 'roy' , \n",
    "    'duplictate' : 'dsijfkl'\n",
    "                }\n",
    "\n",
    "mydictionary\n",
    "\n",
    "# accessing keys\n",
    "mydictionary[101]\n",
    "mydictionary['duplictate']\n",
    "\n",
    "# updating values\n",
    "mydictionary[101] = 'new value added'\n",
    "mydictionary\n",
    "\n",
    "# adding values\n",
    "mydictionary[105] = 5\n",
    "mydictionary"
   ]
  },
  {
   "attachments": {},
   "cell_type": "markdown",
   "metadata": {},
   "source": [
    "## Operators\n",
    "\n",
    "### Identity Operators\n",
    "we check if the object is present in the datatype or not \n",
    "1. is\n",
    "\n",
    "### Membership \n",
    "we check if the object is present in the collection dataset or not\n",
    "1. in\n"
   ]
  },
  {
   "cell_type": "code",
   "execution_count": 28,
   "metadata": {},
   "outputs": [
    {
     "data": {
      "text/plain": [
       "False"
      ]
     },
     "execution_count": 28,
     "metadata": {},
     "output_type": "execute_result"
    }
   ],
   "source": [
    "x = 10\n",
    "y = 10\n",
    "x is not y"
   ]
  },
  {
   "cell_type": "code",
   "execution_count": 30,
   "metadata": {},
   "outputs": [
    {
     "data": {
      "text/plain": [
       "False"
      ]
     },
     "execution_count": 30,
     "metadata": {},
     "output_type": "execute_result"
    }
   ],
   "source": [
    "69 in mytuple\n",
    "69 in mydictionary"
   ]
  },
  {
   "attachments": {},
   "cell_type": "markdown",
   "metadata": {},
   "source": [
    "## Conditional Statements\n",
    "1. if statements\n",
    "2. if else \n",
    "3. if elif else"
   ]
  },
  {
   "cell_type": "code",
   "execution_count": 34,
   "metadata": {},
   "outputs": [
    {
     "name": "stdout",
     "output_type": "stream",
     "text": [
      "the number is 0\n"
     ]
    }
   ],
   "source": [
    "# if statement\n",
    "a = int(input('enter a number'))\n",
    "if a > 0:\n",
    "    print('the number is positive')\n",
    "if a < 0:\n",
    "    print('the number is negative')\n",
    "if a == 0:\n",
    "    print('the number is 0')"
   ]
  },
  {
   "cell_type": "code",
   "execution_count": 40,
   "metadata": {},
   "outputs": [
    {
     "name": "stdout",
     "output_type": "stream",
     "text": [
      "The maximum value of 12, 23, 56, 78, 9 is 78\n",
      "The minimum value of 12, 23, 56, 78, 9 is 9\n"
     ]
    }
   ],
   "source": [
    "#max and min using simple if statements\n",
    "\n",
    "a = int(input('enter value for a'))\n",
    "b = int(input('enter value for b'))\n",
    "c = int(input('enter value for c'))\n",
    "d = int(input('enter value for d'))\n",
    "e = int(input('enter value for e'))\n",
    "\n",
    "max = a\n",
    "if b > max:\n",
    "    max = b\n",
    "if c > max:\n",
    "    max = c\n",
    "if d > max:\n",
    "    max = d\n",
    "if e > max:\n",
    "    max = e\n",
    "\n",
    "print(f'The maximum value of {a}, {b}, {c}, {d}, {e} is {max}')\n",
    "\n",
    "\n",
    "min = a\n",
    "if b < min:\n",
    "    min = b\n",
    "if c < min:\n",
    "    min = c\n",
    "if d < min:\n",
    "    min = d\n",
    "if e < min:\n",
    "    min = e\n",
    "\n",
    "print(f'The minimum value of {a}, {b}, {c}, {d}, {e} is {min}')"
   ]
  },
  {
   "cell_type": "code",
   "execution_count": 41,
   "metadata": {},
   "outputs": [
    {
     "name": "stdout",
     "output_type": "stream",
     "text": [
      "you are eligible to apply for driving license\n"
     ]
    }
   ],
   "source": [
    "# if else statements\n",
    "age = int(input('enter your age'))\n",
    "\n",
    "if age >= 18:\n",
    "    print('you are eligible to apply for driving license')\n",
    "\n",
    "else:\n",
    "    print('you are not eligible to apply for driving license')"
   ]
  },
  {
   "cell_type": "code",
   "execution_count": 42,
   "metadata": {},
   "outputs": [
    {
     "name": "stdout",
     "output_type": "stream",
     "text": [
      "45 is less than 67\n"
     ]
    }
   ],
   "source": [
    "# if elif else statements\n",
    "a = int(input('enter value for a'))\n",
    "b = int(input('enter value for b'))\n",
    "\n",
    "if a > b:\n",
    "    print(f'{a} is greater than {b}')\n",
    "elif a == b:\n",
    "    print(f'{a} is equal to {b}')\n",
    "else:\n",
    "    print(f'{a} is less than {b}')"
   ]
  },
  {
   "cell_type": "code",
   "execution_count": 45,
   "metadata": {},
   "outputs": [
    {
     "name": "stdout",
     "output_type": "stream",
     "text": [
      "you failed\n"
     ]
    }
   ],
   "source": [
    "# determine if a student passed or failed and determine the percentage\n",
    "marks_1 = int(input('enter marks for paper 1'))\n",
    "marks_2 = int(input('enter marks for paper 2'))\n",
    "marks_3 = int(input('enter marks for paper 3'))\n",
    "marks_4 = int(input('enter marks for paper 4'))\n",
    "marks_5 = int(input('enter marks for paper 5'))\n",
    "practical_1 = int(input('enter marks of practical 1'))\n",
    "practical_2 = int(input('enter marks of practical 2'))\n",
    "\n",
    "percentage =( marks_1 + marks_2 + marks_3 + marks_4 + marks_5) / 5\n",
    "\n",
    "if marks_1 >=40 and marks_2 >= 40 and marks_3 >= 40 and marks_4 and marks_5>=40 and practical_1>=10 and practical_2>=10:\n",
    "    print(f'you passed with {percentage}%')\n",
    "\n",
    "else:\n",
    "    print('you failed')"
   ]
  },
  {
   "cell_type": "code",
   "execution_count": 58,
   "metadata": {},
   "outputs": [
    {
     "name": "stdout",
     "output_type": "stream",
     "text": [
      "enter a single charachter\n"
     ]
    }
   ],
   "source": [
    "# 48 - 57 - numbers\n",
    "# 65 - 90 - caps\n",
    "# 97 - 122 - small\n",
    "\n",
    "ch = input()\n",
    "\n",
    "if len(ch) > 1:\n",
    "    print('enter a single charachter')\n",
    "else:\n",
    "    if(ord(ch) >= 65 and ord(ch) <= 90):\n",
    "        print('Upper')\n",
    "    elif(ord(ch) >= 97 and ord(ch) <= 122):\n",
    "        print('Lower')\n",
    "    elif(ord(ch) >= 48 and ord(ch) <= 57):\n",
    "        print('Number')\n",
    "    else:\n",
    "        print('Symbol')"
   ]
  },
  {
   "cell_type": "code",
   "execution_count": 52,
   "metadata": {},
   "outputs": [
    {
     "name": "stdout",
     "output_type": "stream",
     "text": [
      "65\n"
     ]
    }
   ],
   "source": [
    "variable = 'A'\n",
    "print(ord(variable))"
   ]
  },
  {
   "attachments": {},
   "cell_type": "markdown",
   "metadata": {},
   "source": [
    "### Loops\n",
    "for loop and while loop are both entry point loops, i.e. we cannot go inside the loop without checking the condition\n",
    "\n",
    "when we know the range, we use for loop <br>\n",
    "and we use while loop when we dont know the range.\n",
    "\n",
    "Demonstrating the difference between for loop and while loop\n"
   ]
  },
  {
   "cell_type": "code",
   "execution_count": null,
   "metadata": {},
   "outputs": [],
   "source": []
  },
  {
   "cell_type": "markdown",
   "metadata": {},
   "source": [
    "### for loop\n",
    "    - break statement\n",
    "    - continue statement"
   ]
  },
  {
   "cell_type": "code",
   "execution_count": 61,
   "metadata": {},
   "outputs": [
    {
     "name": "stdout",
     "output_type": "stream",
     "text": [
      "2 x 1 = 2 \n",
      "2 x 2 = 4 \n",
      "2 x 3 = 6 \n",
      "2 x 4 = 8 \n",
      "2 x 5 = 10 \n",
      "2 x 6 = 12 \n",
      "2 x 7 = 14 \n",
      "2 x 8 = 16 \n",
      "2 x 9 = 18 \n",
      "2 x 10 = 20 \n",
      "2 x 11 = 22 \n",
      "2 x 12 = 24 \n"
     ]
    }
   ],
   "source": [
    "for i in range(1,13):\n",
    "    print(f'2 x {i} = {2*i} ')"
   ]
  },
  {
   "cell_type": "code",
   "execution_count": 66,
   "metadata": {},
   "outputs": [
    {
     "name": "stdout",
     "output_type": "stream",
     "text": [
      "\n",
      "\n",
      "2 x 1 = 2\n",
      "2 x 2 = 4\n",
      "2 x 3 = 6\n",
      "2 x 4 = 8\n",
      "2 x 5 = 10\n",
      "2 x 6 = 12\n",
      "2 x 7 = 14\n",
      "2 x 8 = 16\n",
      "2 x 9 = 18\n",
      "2 x 10 = 20\n",
      "2 x 11 = 22\n",
      "2 x 12 = 24\n",
      "\n",
      "\n",
      "3 x 1 = 3\n",
      "3 x 2 = 6\n",
      "3 x 3 = 9\n",
      "3 x 4 = 12\n",
      "3 x 5 = 15\n",
      "3 x 6 = 18\n",
      "3 x 7 = 21\n",
      "3 x 8 = 24\n",
      "3 x 9 = 27\n",
      "3 x 10 = 30\n",
      "3 x 11 = 33\n",
      "3 x 12 = 36\n",
      "\n",
      "\n",
      "4 x 1 = 4\n",
      "4 x 2 = 8\n",
      "4 x 3 = 12\n",
      "4 x 4 = 16\n",
      "4 x 5 = 20\n",
      "4 x 6 = 24\n",
      "4 x 7 = 28\n",
      "4 x 8 = 32\n",
      "4 x 9 = 36\n",
      "4 x 10 = 40\n",
      "4 x 11 = 44\n",
      "4 x 12 = 48\n",
      "\n",
      "\n",
      "5 x 1 = 5\n",
      "5 x 2 = 10\n",
      "5 x 3 = 15\n",
      "5 x 4 = 20\n",
      "5 x 5 = 25\n",
      "5 x 6 = 30\n",
      "5 x 7 = 35\n",
      "5 x 8 = 40\n",
      "5 x 9 = 45\n",
      "5 x 10 = 50\n",
      "5 x 11 = 55\n",
      "5 x 12 = 60\n",
      "\n",
      "\n",
      "6 x 1 = 6\n",
      "6 x 2 = 12\n",
      "6 x 3 = 18\n",
      "6 x 4 = 24\n",
      "6 x 5 = 30\n",
      "6 x 6 = 36\n",
      "6 x 7 = 42\n",
      "6 x 8 = 48\n",
      "6 x 9 = 54\n",
      "6 x 10 = 60\n",
      "6 x 11 = 66\n",
      "6 x 12 = 72\n",
      "\n",
      "\n",
      "7 x 1 = 7\n",
      "7 x 2 = 14\n",
      "7 x 3 = 21\n",
      "7 x 4 = 28\n",
      "7 x 5 = 35\n",
      "7 x 6 = 42\n",
      "7 x 7 = 49\n",
      "7 x 8 = 56\n",
      "7 x 9 = 63\n",
      "7 x 10 = 70\n",
      "7 x 11 = 77\n",
      "7 x 12 = 84\n",
      "\n",
      "\n",
      "8 x 1 = 8\n",
      "8 x 2 = 16\n",
      "8 x 3 = 24\n",
      "8 x 4 = 32\n",
      "8 x 5 = 40\n",
      "8 x 6 = 48\n",
      "8 x 7 = 56\n",
      "8 x 8 = 64\n",
      "8 x 9 = 72\n",
      "8 x 10 = 80\n",
      "8 x 11 = 88\n",
      "8 x 12 = 96\n",
      "\n",
      "\n",
      "9 x 1 = 9\n",
      "9 x 2 = 18\n",
      "9 x 3 = 27\n",
      "9 x 4 = 36\n",
      "9 x 5 = 45\n",
      "9 x 6 = 54\n",
      "9 x 7 = 63\n",
      "9 x 8 = 72\n",
      "9 x 9 = 81\n",
      "9 x 10 = 90\n",
      "9 x 11 = 99\n",
      "9 x 12 = 108\n",
      "\n",
      "\n",
      "10 x 1 = 10\n",
      "10 x 2 = 20\n",
      "10 x 3 = 30\n",
      "10 x 4 = 40\n",
      "10 x 5 = 50\n",
      "10 x 6 = 60\n",
      "10 x 7 = 70\n",
      "10 x 8 = 80\n",
      "10 x 9 = 90\n",
      "10 x 10 = 100\n",
      "10 x 11 = 110\n",
      "10 x 12 = 120\n"
     ]
    }
   ],
   "source": [
    "for i in range(2,11):\n",
    "    print('\\n')\n",
    "    for j in range (1,13):\n",
    "        print(f'{i} x {j} = {i*j}')\n",
    "        "
   ]
  },
  {
   "attachments": {},
   "cell_type": "markdown",
   "metadata": {},
   "source": [
    "#### `break` and `continue` statements\n",
    "When the program execution reaches a `continue` statement, the program execution immediately jumps back to the start of the loop.<br>\n",
    "If the execution reaches a `break` statement, it immediately exits the loop"
   ]
  },
  {
   "cell_type": "code",
   "execution_count": 5,
   "metadata": {},
   "outputs": [
    {
     "name": "stdout",
     "output_type": "stream",
     "text": [
      "1\n",
      "2\n",
      "3\n",
      "4\n"
     ]
    }
   ],
   "source": [
    "# break statement\n",
    "for i in range (1,10):\n",
    "    if i == 5:\n",
    "        break\n",
    "    print(i)"
   ]
  },
  {
   "cell_type": "code",
   "execution_count": 8,
   "metadata": {},
   "outputs": [],
   "source": [
    "name = input('enter your name')\n",
    "i=0\n",
    "for x in name:\n",
    "    if x == 'n':\n",
    "        print(f'The character present at index {i} is {x} ')\n",
    "        break\n",
    "    i = i+1\n",
    "        "
   ]
  },
  {
   "cell_type": "code",
   "execution_count": 9,
   "metadata": {},
   "outputs": [
    {
     "name": "stdout",
     "output_type": "stream",
     "text": [
      "1\n",
      "2\n",
      "3\n",
      "4\n",
      "6\n",
      "7\n",
      "8\n",
      "9\n"
     ]
    }
   ],
   "source": [
    "#continue statements\n",
    "for i in range(1,10):\n",
    "    if i == 5:\n",
    "        continue\n",
    "    print(i)"
   ]
  },
  {
   "cell_type": "code",
   "execution_count": 10,
   "metadata": {},
   "outputs": [
    {
     "name": "stdout",
     "output_type": "stream",
     "text": [
      "10\n",
      "20\n",
      "200\n",
      "300\n",
      "this is my purchased cart item\n",
      "60\n",
      "this is my purchased cart item\n"
     ]
    }
   ],
   "source": [
    "mycart = [10,20,200,300,800,60,700]\n",
    "for i in mycart:\n",
    "    if i>400:\n",
    "        print('this is my purchased cart item')\n",
    "        continue\n",
    "    print(i)"
   ]
  },
  {
   "cell_type": "code",
   "execution_count": 17,
   "metadata": {},
   "outputs": [
    {
     "name": "stdout",
     "output_type": "stream",
     "text": [
      "1 5\n",
      "2 4\n",
      "4 2\n",
      "5 1\n"
     ]
    }
   ],
   "source": [
    "for i in range(1,6):\n",
    "    if i == 3:\n",
    "        continue\n",
    "    print(i , (6-i))"
   ]
  },
  {
   "cell_type": "code",
   "execution_count": 19,
   "metadata": {},
   "outputs": [
    {
     "name": "stdout",
     "output_type": "stream",
     "text": [
      "1 5\n",
      "2 4\n",
      "4 2\n",
      "5 1\n"
     ]
    }
   ],
   "source": [
    "#alternate way to print the above given pattern\n",
    "for i, j in zip(range(1,6), range(5,0,-1)):\n",
    "    if i == 3 and j == 3:\n",
    "        continue\n",
    "    print(i, j)"
   ]
  },
  {
   "attachments": {},
   "cell_type": "markdown",
   "metadata": {},
   "source": [
    "#### while loop\n"
   ]
  },
  {
   "cell_type": "code",
   "execution_count": 24,
   "metadata": {},
   "outputs": [
    {
     "name": "stdout",
     "output_type": "stream",
     "text": [
      "1\n",
      "2\n",
      "4\n",
      "5\n",
      "6\n"
     ]
    }
   ],
   "source": [
    "i = 0 \n",
    "while i < 6:\n",
    "    i = i + 1\n",
    "    if i == 3 :\n",
    "        continue\n",
    "    print(i)\n",
    "\n",
    "# 6 print ho raha hai because we are incrementing the value of i before printing it. Thats why output starts with 1 and exits at 6\n"
   ]
  },
  {
   "cell_type": "code",
   "execution_count": 27,
   "metadata": {},
   "outputs": [
    {
     "name": "stdout",
     "output_type": "stream",
     "text": [
      "thanks for entering a valid name\n"
     ]
    }
   ],
   "source": [
    "name = ''\n",
    "while name!= 'nidhi':\n",
    "    name = input('whats you name bitch')\n",
    "    \n",
    "print ('thanks for entering a valid name')"
   ]
  },
  {
   "cell_type": "code",
   "execution_count": 30,
   "metadata": {},
   "outputs": [
    {
     "name": "stdout",
     "output_type": "stream",
     "text": [
      "1. add \n",
      " 2. mul \n",
      " 3. div \n",
      " 4. sub \n",
      "\n",
      "10.0\n",
      "1. add \n",
      " 2. mul \n",
      " 3. div \n",
      " 4. sub \n",
      "\n",
      "6.0\n"
     ]
    }
   ],
   "source": [
    "toggle = True\n",
    "while toggle == True:\n",
    "    print('1. add \\n 2. mul \\n 3. div \\n 4. sub \\n')\n",
    "    choice = int(input('enter your choice:'))\n",
    "    first_num = float(input('enter your first num: '))\n",
    "    second_num = float(input('enter your second num: '))\n",
    "    if choice == 1:\n",
    "        print(first_num + second_num)\n",
    "    if choice == 2:\n",
    "        print(first_num*second_num)\n",
    "    if choice == 3:\n",
    "        print(first_num/second_num)\n",
    "    if choice == 4:\n",
    "        print(first_num - second_num)\n",
    "\n",
    "    toggle_input = input('do you want to continue (yes/no)')\n",
    "    if toggle_input == 'yes':\n",
    "        toggle = True\n",
    "    else:\n",
    "        toggle = False"
   ]
  },
  {
   "cell_type": "code",
   "execution_count": 35,
   "metadata": {},
   "outputs": [
    {
     "name": "stdout",
     "output_type": "stream",
     "text": [
      "the no of pairs of 2 are  1\n",
      "the no of pairs of 3 are  0\n",
      "the no of pairs of 4 are  1\n",
      "the no of pairs of 5 are  1\n"
     ]
    }
   ],
   "source": [
    "# count the no. of pairs of similar numbers [2,3,4,4,2,5,2,1,5,5]\n",
    "countOf2 = 0\n",
    "countOf3 = 0\n",
    "countOf4 = 0\n",
    "countOf5 = 0\n",
    "\n",
    "input_list = [2,3,4,4,2,5,2,1,5,5]\n",
    "\n",
    "for element in input_list:\n",
    "    if element == 2:\n",
    "        countOf2 = countOf2 + 1\n",
    "    if element == 3:\n",
    "        countOf3 = countOf3 + 1\n",
    "    if element == 4:\n",
    "        countOf4 = countOf4 + 1\n",
    "    if element == 5:\n",
    "        countOf5 = countOf5 + 1\n",
    "\n",
    "print('the no of pairs of 2 are ',int(countOf2/2))\n",
    "print('the no of pairs of 3 are ',int(countOf3/2))\n",
    "print('the no of pairs of 4 are ',int(countOf4/2))\n",
    "print('the no of pairs of 5 are ',int(countOf5/2))"
   ]
  },
  {
   "attachments": {},
   "cell_type": "markdown",
   "metadata": {},
   "source": [
    "## Basic questions\n"
   ]
  },
  {
   "cell_type": "code",
   "execution_count": 4,
   "metadata": {},
   "outputs": [
    {
     "name": "stdout",
     "output_type": "stream",
     "text": [
      "a is now 40 and b is 30\n"
     ]
    }
   ],
   "source": [
    "# swap 2 numbers using 3 variable\n",
    "a = 30\n",
    "b = 40\n",
    "c = b\n",
    "b = a\n",
    "a = c\n",
    "print(f'a is now {a} and b is {b}')\n"
   ]
  },
  {
   "cell_type": "code",
   "execution_count": 5,
   "metadata": {},
   "outputs": [
    {
     "name": "stdout",
     "output_type": "stream",
     "text": [
      "a is now 40 and b is 30\n"
     ]
    }
   ],
   "source": [
    "# swap 2 numbers using only 2 variables\n",
    "a = 30 \n",
    "b = 40\n",
    "a = a+b #70\n",
    "b = a-b #30\n",
    "a = a-b #40\n",
    "print(f'a is now {a} and b is {b}')"
   ]
  }
 ],
 "metadata": {
  "kernelspec": {
   "display_name": "Python 3",
   "language": "python",
   "name": "python3"
  },
  "language_info": {
   "codemirror_mode": {
    "name": "ipython",
    "version": 3
   },
   "file_extension": ".py",
   "mimetype": "text/x-python",
   "name": "python",
   "nbconvert_exporter": "python",
   "pygments_lexer": "ipython3",
   "version": "3.10.6"
  },
  "orig_nbformat": 4,
  "vscode": {
   "interpreter": {
    "hash": "916dbcbb3f70747c44a77c7bcd40155683ae19c65e1c03b4aa3499c5328201f1"
   }
  }
 },
 "nbformat": 4,
 "nbformat_minor": 2
}
