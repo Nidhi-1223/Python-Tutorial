{
 "cells": [
  {
   "attachments": {},
   "cell_type": "markdown",
   "metadata": {},
   "source": [
    "# Tasks"
   ]
  },
  {
   "cell_type": "markdown",
   "metadata": {},
   "source": [
    "A company decided to give bonus of 5% to employee if his/her year of service is more than 5 years.\n",
    "Ask user for their salary and year of service and print the net bonus amount."
   ]
  },
  {
   "cell_type": "code",
   "execution_count": 3,
   "metadata": {},
   "outputs": [
    {
     "name": "stdout",
     "output_type": "stream",
     "text": [
      "you have been working here for 6 years with a salary of Rs.80000, you get the bonus of Rs.4000.0\n"
     ]
    }
   ],
   "source": [
    "years = int(input('For how many years have you been working in this company?'))\n",
    "salary = int(input('What is your salary at the moment?'))\n",
    "\n",
    "if years > 5:\n",
    "    bonus = (5*salary)/100\n",
    "    print(f'you have been working here for {years} years with a salary of Rs.{salary}, you get the bonus of Rs.{bonus}')\n",
    "else: \n",
    "    print(\"you don't get any bonus this year :(\")\n",
    "\n"
   ]
  },
  {
   "attachments": {},
   "cell_type": "markdown",
   "metadata": {},
   "source": [
    "Take values of length and breadth of a rectangle from user and check if it is square or not."
   ]
  },
  {
   "cell_type": "code",
   "execution_count": 5,
   "metadata": {},
   "outputs": [
    {
     "name": "stdout",
     "output_type": "stream",
     "text": [
      "The given rectangle is not a square\n"
     ]
    }
   ],
   "source": [
    "length = int(input('Enter the length '))\n",
    "breadth = int(input('Enter the breadth '))\n",
    "\n",
    "if length == breadth:\n",
    "    print(f'The given rectangle is a square with side of length {length}')\n",
    "else:\n",
    "    print(f'The given rectangle is not a square')"
   ]
  },
  {
   "attachments": {},
   "cell_type": "markdown",
   "metadata": {},
   "source": [
    "Take two int values from user and print greatest among them."
   ]
  },
  {
   "cell_type": "code",
   "execution_count": 7,
   "metadata": {},
   "outputs": [
    {
     "name": "stdout",
     "output_type": "stream",
     "text": [
      "Both of them are equal\n"
     ]
    }
   ],
   "source": [
    "num1 = int(input('Enter the first number: '))\n",
    "num2 = int(input('Enter the second number: '))\n",
    "\n",
    "if num1 > num2:\n",
    "    print(f'{num1} is the greatest among the {num1} and {num2}')\n",
    "\n",
    "elif num2 > num1:\n",
    "    print(f'{num2} is the greatest among the {num1} and {num2}')\n",
    "\n",
    "else:\n",
    "    print('Both of them are equal')\n"
   ]
  },
  {
   "attachments": {},
   "cell_type": "markdown",
   "metadata": {},
   "source": [
    "A shop will give discount of 10% if the cost of purchased quantity is more than 1000.\n",
    "Ask user for quantity. Suppose, one unit will cost 100.\n",
    "\n",
    "Judge and print total cost for user."
   ]
  },
  {
   "cell_type": "code",
   "execution_count": 8,
   "metadata": {},
   "outputs": [
    {
     "name": "stdout",
     "output_type": "stream",
     "text": [
      "The final price is Rs. 1350.0\n"
     ]
    }
   ],
   "source": [
    "quantity = int(input('Enter the amount of units of the product'))\n",
    "cost = 100\n",
    "\n",
    "total_amount = cost * quantity\n",
    "\n",
    "if total_amount > 1000:\n",
    "    price = 90*total_amount/100\n",
    "else: \n",
    "    price = total_amount\n",
    "\n",
    "print(f'The final price is Rs. {price}')"
   ]
  },
  {
   "attachments": {},
   "cell_type": "markdown",
   "metadata": {},
   "source": [
    "A school has following rules for grading system:<br>\n",
    "\n",
    "a. Below 25 - F\n",
    "\n",
    "b. 25 to 45 - E\n",
    "\n",
    "c. 45 to 50 - D\n",
    "\n",
    "d. 50 to 60 - C\n",
    "\n",
    "e. 60 to 80 - B\n",
    "\n",
    "f. Above 80 - A\n",
    "\n",
    "Ask user to enter marks and print the corresponding grade."
   ]
  },
  {
   "cell_type": "code",
   "execution_count": 11,
   "metadata": {},
   "outputs": [
    {
     "name": "stdout",
     "output_type": "stream",
     "text": [
      "Your marks: 99 \n",
      "Your grade: A\n"
     ]
    }
   ],
   "source": [
    "marks = int(input('Enter your total marks: '))\n",
    "if marks>-1 and marks<=25:\n",
    "    grade = 'F'\n",
    "elif marks>25 and marks<=45:\n",
    "    grade = 'E'\n",
    "elif marks>45 and marks<=50:\n",
    "    grade = 'D'\n",
    "elif marks>50 and marks<=60:\n",
    "    grade = 'C'\n",
    "elif marks>60 and marks<=80:\n",
    "    grade = 'B'\n",
    "elif marks>80 and marks<=100:\n",
    "    grade = 'A'\n",
    "\n",
    "print(f'Your marks: {marks} \\nYour grade: {grade}')"
   ]
  },
  {
   "attachments": {},
   "cell_type": "markdown",
   "metadata": {},
   "source": [
    "Take input of age of 3 people by user and determine oldest and youngest among them."
   ]
  },
  {
   "cell_type": "code",
   "execution_count": 12,
   "metadata": {},
   "outputs": [
    {
     "name": "stdout",
     "output_type": "stream",
     "text": [
      "The maximum is 356 \n",
      "The minimum is 12\n"
     ]
    }
   ],
   "source": [
    "age1 = int(input('Enter the age of first person: '))\n",
    "age2 = int(input('Enter the age of second person: '))\n",
    "age3 = int(input('Enter the age of third person: '))\n",
    "\n",
    "max = age1\n",
    "min = age1\n",
    "\n",
    "if age2 > max:\n",
    "    max = age2\n",
    "\n",
    "if age3 > max:\n",
    "    max = age3   \n",
    "\n",
    "if age2 < min:\n",
    "    min = age2\n",
    "    \n",
    "if age3 < min:\n",
    "    min = age3\n",
    "\n",
    "print(f'The maximum is {max} \\nThe minimum is {min}')"
   ]
  },
  {
   "attachments": {},
   "cell_type": "markdown",
   "metadata": {},
   "source": [
    "7 Write a program to print absolute value of a number entered by user. E.g.-\n",
    "\n",
    "INPUT: 1    OUTPUT: 1\n",
    "\n",
    "INPUT: -1   OUTPUT: 1"
   ]
  },
  {
   "cell_type": "code",
   "execution_count": 15,
   "metadata": {},
   "outputs": [
    {
     "name": "stdout",
     "output_type": "stream",
     "text": [
      "0.0\n"
     ]
    }
   ],
   "source": [
    "num = float(input('Enter a number: '))\n",
    "if num >= 0:\n",
    "    print(num)\n",
    "if num < 0:\n",
    "    print (-1 * num)"
   ]
  },
  {
   "attachments": {},
   "cell_type": "markdown",
   "metadata": {},
   "source": [
    "8 A student will not be allowed to sit in exam if his/her attendance is less than 75%.\n",
    "Take following input from user - \n",
    "\n",
    "Number of classes held \n",
    "Number of classes attended\n",
    "\n",
    "And print percentage of class attended? Is student is allowed to sit in exam or not."
   ]
  },
  {
   "cell_type": "code",
   "execution_count": 19,
   "metadata": {},
   "outputs": [
    {
     "name": "stdout",
     "output_type": "stream",
     "text": [
      "your attendance is 92.5%. \n",
      "You are allowed to sit in exam\n"
     ]
    }
   ],
   "source": [
    "classes_held = int(input('Enter the number of classes held'))\n",
    "classes_attended = int(input('Enter the number of classes attended'))\n",
    "\n",
    "percentage = classes_attended*100/classes_held\n",
    "\n",
    "# print(percentage)\n",
    "\n",
    "if percentage >= 75:\n",
    "    print(f'your attendance is {percentage}%. \\nYou are allowed to sit in exam')\n",
    "else : \n",
    "    print(f'your attendance is {percentage}%. \\nYou are not allowed to sit in exam')"
   ]
  },
  {
   "attachments": {},
   "cell_type": "markdown",
   "metadata": {},
   "source": [
    "9 Write a program to calculate the electricity bill (accept number of unit from user) according to the\n",
    "following criteria :\n",
    "\n",
    "Unit Price First 100 units 3.5 rs per unit\n",
    "\n",
    "Next 100 units Rs 5 per unit\n",
    "\n",
    "After 200 units Rs 10 per unit\n",
    "\n",
    "after that 15rs per unit"
   ]
  },
  {
   "cell_type": "code",
   "execution_count": null,
   "metadata": {},
   "outputs": [
    {
     "name": "stdout",
     "output_type": "stream",
     "text": [
      "The amount for 300 units is 1850.0\n"
     ]
    }
   ],
   "source": [
    "units = int(input('Enter the number of units: '))\n",
    "if units <= 100:\n",
    "    amount = 100*3.5                    #35\n",
    "if units >100 and units<=200:\n",
    "    amount = 100*3.5 + (units-100)*5         #135 \n",
    "if units >200 and units <=300:\n",
    "    amount = 100*3.5 + 100*5 + (units-200)*10           #235\n",
    "if units>300:\n",
    "    amount = 100*3.5 + 100*5 + 100*10 + (units-300)*15  #335\n",
    "\n",
    "print(f'The amount for {units} units is {amount}')\n"
   ]
  },
  {
   "attachments": {},
   "cell_type": "markdown",
   "metadata": {},
   "source": [
    "10 Write a program to accept the cost price of a bike and display the road tax to be paid according to\n",
    "the following criteria:\n",
    "\n",
    "    Cost price (in Rs)               |   Tax\n",
    "    100000                           |  15 %\n",
    "    > 50000 and <= 100000            |  10%\n",
    "    <= 50000                         |  5%"
   ]
  },
  {
   "cell_type": "code",
   "execution_count": 26,
   "metadata": {},
   "outputs": [
    {
     "ename": "ValueError",
     "evalue": "invalid literal for int() with base 10: 'iuyfiwu'",
     "output_type": "error",
     "traceback": [
      "\u001b[0;31m---------------------------------------------------------------------------\u001b[0m",
      "\u001b[0;31mValueError\u001b[0m                                Traceback (most recent call last)",
      "\u001b[1;32m/home/hp/Documents/College/Coding/ACT - Technical/practice problems/tasks.ipynb Cell 21\u001b[0m in \u001b[0;36m<cell line: 1>\u001b[0;34m()\u001b[0m\n\u001b[0;32m----> <a href='vscode-notebook-cell:/home/hp/Documents/College/Coding/ACT%20-%20Technical/practice%20problems/tasks.ipynb#X44sZmlsZQ%3D%3D?line=0'>1</a>\u001b[0m cost \u001b[39m=\u001b[39m \u001b[39mint\u001b[39;49m(\u001b[39minput\u001b[39;49m(\u001b[39m'\u001b[39;49m\u001b[39mEnter the cost\u001b[39;49m\u001b[39m'\u001b[39;49m))\n\u001b[1;32m      <a href='vscode-notebook-cell:/home/hp/Documents/College/Coding/ACT%20-%20Technical/practice%20problems/tasks.ipynb#X44sZmlsZQ%3D%3D?line=1'>2</a>\u001b[0m \u001b[39mif\u001b[39;00m cost \u001b[39m<\u001b[39m\u001b[39m=\u001b[39m \u001b[39m50000\u001b[39m:\n\u001b[1;32m      <a href='vscode-notebook-cell:/home/hp/Documents/College/Coding/ACT%20-%20Technical/practice%20problems/tasks.ipynb#X44sZmlsZQ%3D%3D?line=2'>3</a>\u001b[0m     tax \u001b[39m=\u001b[39m \u001b[39m5\u001b[39m\u001b[39m*\u001b[39mcost\u001b[39m/\u001b[39m\u001b[39m100\u001b[39m\n",
      "\u001b[0;31mValueError\u001b[0m: invalid literal for int() with base 10: 'iuyfiwu'"
     ]
    }
   ],
   "source": [
    "cost = int(input('Enter the cost'))\n",
    "if cost <= 50000:\n",
    "    tax = 5*cost/100\n",
    "\n",
    "elif cost>50000 and cost <= 100000:\n",
    "    tax = 10*cost/100\n",
    "else :\n",
    "    tax = 15*cost/100\n",
    "\n",
    "print(tax)"
   ]
  },
  {
   "cell_type": "code",
   "execution_count": null,
   "metadata": {},
   "outputs": [],
   "source": []
  }
 ],
 "metadata": {
  "kernelspec": {
   "display_name": "Python 3",
   "language": "python",
   "name": "python3"
  },
  "language_info": {
   "codemirror_mode": {
    "name": "ipython",
    "version": 3
   },
   "file_extension": ".py",
   "mimetype": "text/x-python",
   "name": "python",
   "nbconvert_exporter": "python",
   "pygments_lexer": "ipython3",
   "version": "3.10.6 (main, Nov 14 2022, 16:10:14) [GCC 11.3.0]"
  },
  "orig_nbformat": 4,
  "vscode": {
   "interpreter": {
    "hash": "916dbcbb3f70747c44a77c7bcd40155683ae19c65e1c03b4aa3499c5328201f1"
   }
  }
 },
 "nbformat": 4,
 "nbformat_minor": 2
}
