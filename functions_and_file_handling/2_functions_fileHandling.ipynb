{
 "cells": [
  {
   "attachments": {},
   "cell_type": "markdown",
   "metadata": {},
   "source": [
    "# ACT - Lecture-2\n",
    "*table of contents*\n",
    "1. Functions \n",
    "2. File Handling"
   ]
  },
  {
   "attachments": {},
   "cell_type": "markdown",
   "metadata": {},
   "source": [
    "## Functions\n",
    "function is a self contained block which is executed seperately. If we wish to use a same block of code many times then it can be contained in a function and called whenever needed. <br>\n",
    "`def function_name(parameters):`<br>\n",
    "    //body\n",
    "\n",
    "### Two types of functions\n",
    "1. Built in functions\n",
    "2. User defined functions\n",
    "\n",
    "### Types of arguments \n",
    "1. default argument\n",
    "2. positional argument\n",
    "3. keyword argument\n",
    "4. variable length argument"
   ]
  },
  {
   "cell_type": "code",
   "execution_count": 1,
   "metadata": {},
   "outputs": [
    {
     "name": "stdout",
     "output_type": "stream",
     "text": [
      "your credentials are wrong\n",
      "login successfully! \n"
     ]
    }
   ],
   "source": [
    "#defining the function\n",
    "def login():\n",
    "    while True:\n",
    "        username = input('enter your username: ')\n",
    "        password = input('enter your password: ')\n",
    "        if username == password:\n",
    "            print('login successfully! ')\n",
    "            break\n",
    "        else:\n",
    "            print('your credentials are wrong')\n",
    "\n",
    "#calling the function\n",
    "login() "
   ]
  },
  {
   "cell_type": "code",
   "execution_count": 2,
   "metadata": {},
   "outputs": [
    {
     "name": "stdout",
     "output_type": "stream",
     "text": [
      "first name is nidhi\n",
      "last name is worah\n"
     ]
    }
   ],
   "source": [
    "# example for positional argument\n",
    "def info(firstname, lastname):\n",
    "    print(f'first name is {firstname}')\n",
    "    print(f'last name is {lastname}')\n",
    "\n",
    "info('nidhi', 'worah')"
   ]
  },
  {
   "cell_type": "code",
   "execution_count": 3,
   "metadata": {},
   "outputs": [
    {
     "name": "stdout",
     "output_type": "stream",
     "text": [
      "5\n",
      "9\n"
     ]
    }
   ],
   "source": [
    "def add (num1, num2):\n",
    "    return num1+num2\n",
    "\n",
    "#there are two ways of calling this function -\n",
    "\n",
    "#  method 1 - print it directly\n",
    "print(add(2,3))\n",
    "\n",
    "# method 2 - store it in a variable before printing\n",
    "result = add (4,5)\n",
    "print(result)"
   ]
  },
  {
   "cell_type": "code",
   "execution_count": 5,
   "metadata": {},
   "outputs": [
    {
     "name": "stdout",
     "output_type": "stream",
     "text": [
      "(15, 5, 50)\n"
     ]
    },
    {
     "data": {
      "text/plain": [
       "tuple"
      ]
     },
     "execution_count": 5,
     "metadata": {},
     "output_type": "execute_result"
    }
   ],
   "source": [
    "# it is possible for a function in python to return multiple values \n",
    "def arithmetic (a, b):\n",
    "    r = a+b\n",
    "    m = a*b\n",
    "    n = a-b\n",
    "\n",
    "    return r,n,m\n",
    "result = arithmetic(10, 5)\n",
    "print(result)\n",
    "\n",
    "type(result)"
   ]
  },
  {
   "cell_type": "code",
   "execution_count": 6,
   "metadata": {},
   "outputs": [],
   "source": [
    "#example of keyword argument (using the parameter name while calling the function)\n",
    "def greetings(fname, lname):\n",
    "    print(f'Hi {fname}')\n",
    "    print(f'Hi {lname}')\n"
   ]
  },
  {
   "cell_type": "code",
   "execution_count": 7,
   "metadata": {},
   "outputs": [
    {
     "name": "stdout",
     "output_type": "stream",
     "text": [
      "Hi Nidhi\n",
      "Hi Worah\n"
     ]
    }
   ],
   "source": [
    "#using keyword argument\n",
    "greetings(fname='Nidhi', lname= 'Worah')"
   ]
  },
  {
   "cell_type": "code",
   "execution_count": 8,
   "metadata": {},
   "outputs": [
    {
     "name": "stdout",
     "output_type": "stream",
     "text": [
      "Hi nidhi\n",
      "Hi worah\n"
     ]
    }
   ],
   "source": [
    "#using keyword argument by taking input from the user\n",
    "fname_input = input('enter your first name')\n",
    "lname_input = input('enter')"
   ]
  },
  {
   "cell_type": "code",
   "execution_count": 9,
   "metadata": {},
   "outputs": [],
   "source": [
    "#default arguments\n",
    "def location(city = 'Mumbai'):\n",
    "    print(f'I am from {city}')"
   ]
  },
  {
   "cell_type": "code",
   "execution_count": 10,
   "metadata": {},
   "outputs": [
    {
     "name": "stdout",
     "output_type": "stream",
     "text": [
      "I am from Delhi\n",
      "I am from LA\n",
      "I am from Mumbai\n"
     ]
    }
   ],
   "source": [
    "#calling the function for default arguments\n",
    "location('Delhi')\n",
    "location(city='LA')\n",
    "location()"
   ]
  },
  {
   "cell_type": "code",
   "execution_count": 15,
   "metadata": {},
   "outputs": [
    {
     "name": "stdout",
     "output_type": "stream",
     "text": [
      "(('fisj', 78, 'jfhs'),)\n",
      "(('fsijfs', 'isjfsk', 'kjskjsf'),)\n",
      "('fsijfs', 'isjfsk', 'kjskjsf')\n"
     ]
    },
    {
     "data": {
      "text/plain": [
       "tuple"
      ]
     },
     "execution_count": 15,
     "metadata": {},
     "output_type": "execute_result"
    }
   ],
   "source": [
    "#variable length argument\n",
    "def idk(*name):\n",
    "    print(name)\n",
    "\n",
    "name_tuple =('fisj',78, 'jfhs')\n",
    "names = 'fsijfs', 'isjfsk', 'kjskjsf'\n",
    "\n",
    "idk(name_tuple)\n",
    "idk(names)\n",
    "idk('fsijfs', 'isjfsk', 'kjskjsf')\n",
    "# type(names)"
   ]
  },
  {
   "cell_type": "code",
   "execution_count": 16,
   "metadata": {},
   "outputs": [
    {
     "name": "stdout",
     "output_type": "stream",
     "text": [
      "the value of x in function 1 is 10\n",
      "the value of x in function 2 is 17\n"
     ]
    }
   ],
   "source": [
    "x = 17 #global variable\n",
    "\n",
    "def info_one():\n",
    "    x=10 #local variable\n",
    "    print(f'the value of x in function 1 is {x}')\n",
    "\n",
    "def info_two():\n",
    "    print(f'the value of x in function 2 is {x}')\n",
    "\n",
    "info_one()\n",
    "info_two()\n"
   ]
  },
  {
   "cell_type": "code",
   "execution_count": 1,
   "metadata": {},
   "outputs": [
    {
     "name": "stdout",
     "output_type": "stream",
     "text": [
      "your credentials are wrong\n",
      "your credentials are wrong\n",
      "login successfully! \n",
      "Name : nidhi\n",
      "1. AI&ML \n",
      "2. IT \n",
      "3. Mechanical \n",
      "4. Civil\n"
     ]
    }
   ],
   "source": [
    "name = ''\n",
    "college_name = ''\n",
    "semester_name = ''\n",
    "branch = ''\n",
    "stats = ''\n",
    "automata = ''\n",
    "nosql = ''\n",
    "ml = ''\n",
    "cyber = ''\n",
    "\n",
    "\n",
    "\n",
    "def getPersonalInfo():\n",
    "\n",
    "    #login\n",
    "    while True:\n",
    "        username = input('enter your username: ')\n",
    "        password = input('enter your password: ')\n",
    "        if username == password:\n",
    "            print('login successfully! ')\n",
    "            break\n",
    "        else:\n",
    "            print('your credentials are wrong')\n",
    "\n",
    "    #input - name\n",
    "    name = input('enter your name')\n",
    "\n",
    "def getCollegeDetails():\n",
    "    college_name = input('enter your college name: ')\n",
    "    semester_name = input('what semester are you in?')\n",
    "    print('1. AI&ML \\n2. IT \\n3. Mechanical \\n4. Civil')\n",
    "    branch = input('Enter the branch number :')\n",
    "\n",
    "def getMarks():\n",
    "    stats = input('Marks for statistics? ')\n",
    "    automata = input('Marks for Automata Theory? ')\n",
    "    nosql = input('Marks for NoSQL? ')\n",
    "    ml = input('Marks for Machine Learning? ')\n",
    "    cyber = input('Marks for Cyber Security? ')\n",
    "# getMarks()\n",
    "\n",
    "def showDetails():\n",
    "    getPersonalInfo()\n",
    "    getCollegeDetails()\n",
    "    getMarks()\n",
    "    print('#####        Personal Details        ####')\n",
    "    print('Name :')\n",
    "\n",
    "showDetails()\n"
   ]
  },
  {
   "attachments": {},
   "cell_type": "markdown",
   "metadata": {},
   "source": [
    "## File Handling In Python\n",
    "We deal with text file and binary file (image, video, audio)\n",
    "\n",
    "**Functions** :\n",
    "1. Open()\n",
    "    F = `open('myfile.txt', operation)`"
   ]
  },
  {
   "cell_type": "code",
   "execution_count": 2,
   "metadata": {},
   "outputs": [],
   "source": [
    "f = open('myfile.txt', 'w')     #to create a file"
   ]
  },
  {
   "cell_type": "code",
   "execution_count": 3,
   "metadata": {},
   "outputs": [
    {
     "data": {
      "text/plain": [
       "'myfile.txt'"
      ]
     },
     "execution_count": 3,
     "metadata": {},
     "output_type": "execute_result"
    }
   ],
   "source": [
    "f.name"
   ]
  },
  {
   "cell_type": "code",
   "execution_count": 4,
   "metadata": {},
   "outputs": [
    {
     "data": {
      "text/plain": [
       "'w'"
      ]
     },
     "execution_count": 4,
     "metadata": {},
     "output_type": "execute_result"
    }
   ],
   "source": [
    "f.mode"
   ]
  },
  {
   "cell_type": "code",
   "execution_count": 5,
   "metadata": {},
   "outputs": [
    {
     "data": {
      "text/plain": [
       "False"
      ]
     },
     "execution_count": 5,
     "metadata": {},
     "output_type": "execute_result"
    }
   ],
   "source": [
    "f.readable()"
   ]
  },
  {
   "cell_type": "code",
   "execution_count": 6,
   "metadata": {},
   "outputs": [
    {
     "data": {
      "text/plain": [
       "True"
      ]
     },
     "execution_count": 6,
     "metadata": {},
     "output_type": "execute_result"
    }
   ],
   "source": [
    "f.writable()"
   ]
  },
  {
   "cell_type": "code",
   "execution_count": 7,
   "metadata": {},
   "outputs": [
    {
     "data": {
      "text/plain": [
       "False"
      ]
     },
     "execution_count": 7,
     "metadata": {},
     "output_type": "execute_result"
    }
   ],
   "source": [
    "f.closed"
   ]
  },
  {
   "cell_type": "code",
   "execution_count": 8,
   "metadata": {},
   "outputs": [],
   "source": [
    "f.close()"
   ]
  },
  {
   "cell_type": "code",
   "execution_count": 9,
   "metadata": {},
   "outputs": [
    {
     "data": {
      "text/plain": [
       "True"
      ]
     },
     "execution_count": 9,
     "metadata": {},
     "output_type": "execute_result"
    }
   ],
   "source": [
    "f.closed"
   ]
  },
  {
   "cell_type": "code",
   "execution_count": 12,
   "metadata": {},
   "outputs": [],
   "source": [
    "f = open('myfile.txt', 'a')"
   ]
  },
  {
   "cell_type": "code",
   "execution_count": 13,
   "metadata": {},
   "outputs": [
    {
     "name": "stdout",
     "output_type": "stream",
     "text": [
      "the file operation is done\n"
     ]
    }
   ],
   "source": [
    "f.write('Mumbai is a full vaccinated city')\n",
    "print('the file operation is done')"
   ]
  },
  {
   "cell_type": "code",
   "execution_count": 14,
   "metadata": {},
   "outputs": [],
   "source": [
    "f.close()"
   ]
  },
  {
   "cell_type": "code",
   "execution_count": 19,
   "metadata": {},
   "outputs": [
    {
     "name": "stdout",
     "output_type": "stream",
     "text": [
      "file operation is done\n"
     ]
    }
   ],
   "source": [
    "f=open('myfile.txt', 'w')\n",
    "f.write('file opened in write mode')\n",
    "print('file operation is done')\n",
    "f.close()"
   ]
  },
  {
   "cell_type": "code",
   "execution_count": 23,
   "metadata": {},
   "outputs": [
    {
     "name": "stdout",
     "output_type": "stream",
     "text": [
      "file operation is done\n"
     ]
    }
   ],
   "source": [
    "f = open('myfile.txt', 'a')\n",
    "mylist = ['elem1', 'elem2', 'elem3']\n",
    "f.writelines(mylist)        #writelines can only pass string not int and float\n",
    "print('file operation is done')\n",
    "f.close()"
   ]
  },
  {
   "cell_type": "code",
   "execution_count": 26,
   "metadata": {},
   "outputs": [
    {
     "name": "stdout",
     "output_type": "stream",
     "text": [
      "file closed ? False\n"
     ]
    }
   ],
   "source": [
    "with open('myfile.txt', 'w') as f:\n",
    "    f.write('amit\\n')\n",
    "    f.write('nidhi\\n')\n",
    "    f.write('roy\\n')\n",
    "    f.write('jaanhvi\\n')\n",
    "    print('file closed ?' , f.closed)\n",
    "\n",
    "# with 'with' function we dont have to manually close the file, it does that automatically once we are out of the code block\n"
   ]
  },
  {
   "cell_type": "code",
   "execution_count": 27,
   "metadata": {},
   "outputs": [
    {
     "data": {
      "text/plain": [
       "True"
      ]
     },
     "execution_count": 27,
     "metadata": {},
     "output_type": "execute_result"
    }
   ],
   "source": [
    "f.closed"
   ]
  },
  {
   "cell_type": "code",
   "execution_count": 46,
   "metadata": {},
   "outputs": [
    {
     "name": "stdout",
     "output_type": "stream",
     "text": [
      "record saved!\n"
     ]
    }
   ],
   "source": [
    "# working with csv files \n",
    "import csv\n",
    "f = open('student.csv', 'a', newline='')\n",
    "a = csv.writer(f)\n",
    "# a.writerow(['StudentID', 'rollno', 'name', 'mobileNo'])\n",
    "\n",
    "# StudentID = 420981 \n",
    "# rollno = 101\n",
    "# name = 'nidhi'\n",
    "# mobileNO = 1234567890\n",
    "\n",
    "StudentID = int(input('enter student ID'))\n",
    "rollno = int(input('enter student roll no'))\n",
    "name = input('enter student name')\n",
    "mobileNO = int(input('enter student mobile no'))\n",
    "\n",
    "a.writerow([StudentID, rollno, name, mobileNO])\n",
    "print('record saved!')"
   ]
  }
 ],
 "metadata": {
  "kernelspec": {
   "display_name": "Python 3",
   "language": "python",
   "name": "python3"
  },
  "language_info": {
   "codemirror_mode": {
    "name": "ipython",
    "version": 3
   },
   "file_extension": ".py",
   "mimetype": "text/x-python",
   "name": "python",
   "nbconvert_exporter": "python",
   "pygments_lexer": "ipython3",
   "version": "3.10.6"
  },
  "orig_nbformat": 4,
  "vscode": {
   "interpreter": {
    "hash": "916dbcbb3f70747c44a77c7bcd40155683ae19c65e1c03b4aa3499c5328201f1"
   }
  }
 },
 "nbformat": 4,
 "nbformat_minor": 2
}
