{
 "cells": [
  {
   "attachments": {},
   "cell_type": "markdown",
   "metadata": {},
   "source": [
    "# Error Handling\n"
   ]
  },
  {
   "attachments": {},
   "cell_type": "markdown",
   "metadata": {},
   "source": [
    "Two types of error \n",
    "1. Syntax Error - comes due to incorrect syntax, it comes at compile time\n",
    "2. Runtime Error - comes due to incorrect logic or wrong input given by end user, it comes at run time\n",
    "\n",
    "**Exception handling** can only be implemented for runtime errors. \n",
    "\n",
    "Syntax : \n",
    "\n",
    "    try:\n",
    "        ------------\n",
    "    except:\n",
    "        ------------\n",
    "    \n",
    "\n",
    "we can put multiple `except` blocks with a single `try` block\n"
   ]
  },
  {
   "cell_type": "code",
   "execution_count": 5,
   "metadata": {},
   "outputs": [
    {
     "name": "stdout",
     "output_type": "stream",
     "text": [
      "Cant divide by 0\n"
     ]
    }
   ],
   "source": [
    "a = int(input('Enter first number: '))\n",
    "b = int(input('Enter second number: '))\n",
    "\n",
    "try:\n",
    "    print(a/b)\n",
    "\n",
    "except:\n",
    "    print('Cant divide by 0')"
   ]
  },
  {
   "attachments": {},
   "cell_type": "markdown",
   "metadata": {},
   "source": [
    "<img src = '/home/hp/Documents/College/Coding/ACT - Technical/exception-heirarchy.png'/>"
   ]
  },
  {
   "cell_type": "code",
   "execution_count": 13,
   "metadata": {},
   "outputs": [
    {
     "name": "stdout",
     "output_type": "stream",
     "text": [
      "Enter only integer numbers :  invalid literal for int() with base 10: '['\n"
     ]
    }
   ],
   "source": [
    "try:\n",
    "    a = int(input('Enter first number: '))\n",
    "    b = int(input('Enter second number: '))\n",
    "    print(a/b)\n",
    "\n",
    "except ZeroDivisionError as message:\n",
    "    print('The description of exception : ', message)\n",
    "\n",
    "except ValueError as message:\n",
    "    print('Enter only integer numbers : ',message)\n"
   ]
  },
  {
   "attachments": {},
   "cell_type": "markdown",
   "metadata": {},
   "source": [
    "We can have one default `except` block but it shouldnt be our first except block.  We can use one exception block to handle multiple exception case. Example - "
   ]
  },
  {
   "cell_type": "code",
   "execution_count": 21,
   "metadata": {},
   "outputs": [
    {
     "name": "stdout",
     "output_type": "stream",
     "text": [
      "invalid literal for int() with base 10: '@'\n"
     ]
    }
   ],
   "source": [
    "try:\n",
    "    a = int(input('Enter first number: '))\n",
    "    b = int(input('Enter second number: '))\n",
    "    print(a/b)\n",
    "\n",
    "except (ValueError, ZeroDivisionError) as message:\n",
    "    print(message)\n",
    "\n",
    "except:\n",
    "    print('This is our default except block')"
   ]
  },
  {
   "attachments": {},
   "cell_type": "markdown",
   "metadata": {},
   "source": [
    "### The `else` block\n",
    "the `else` block is executed when there are no exceptions\n"
   ]
  },
  {
   "cell_type": "code",
   "execution_count": null,
   "metadata": {},
   "outputs": [],
   "source": [
    "try:\n",
    "    a = int(input('Enter first number: '))\n",
    "    b = int(input('Enter second number: '))\n",
    "    print(a/b)\n",
    "\n",
    "except (ValueError, ZeroDivisionError) as message:\n",
    "    print(message)\n",
    "\n",
    "except:\n",
    "    print('This is our default except block')\n",
    "\n",
    "else:\n",
    "    print('Everything is okay!')"
   ]
  },
  {
   "attachments": {},
   "cell_type": "markdown",
   "metadata": {},
   "source": [
    "### The `finally` block\n",
    "The `finally` block is executed despite or the occurence of exceptions or not\n"
   ]
  },
  {
   "cell_type": "code",
   "execution_count": 23,
   "metadata": {},
   "outputs": [
    {
     "name": "stdout",
     "output_type": "stream",
     "text": [
      "0.75\n",
      "Everything is okay!\n",
      "I will always be executed\n"
     ]
    }
   ],
   "source": [
    "try:\n",
    "    a = int(input('Enter first number: '))\n",
    "    b = int(input('Enter second number: '))\n",
    "    print(a/b)\n",
    "\n",
    "except (ValueError, ZeroDivisionError) as message:\n",
    "    print(message)\n",
    "\n",
    "except:\n",
    "    print('This is our default except block')\n",
    "\n",
    "else:\n",
    "    print('Everything is okay!')\n",
    "\n",
    "finally:\n",
    "    print('I will always be executed')"
   ]
  },
  {
   "attachments": {},
   "cell_type": "markdown",
   "metadata": {},
   "source": [
    "### Nested `try` and `except` block"
   ]
  },
  {
   "cell_type": "code",
   "execution_count": 27,
   "metadata": {},
   "outputs": [
    {
     "name": "stdout",
     "output_type": "stream",
     "text": [
      "invalid literal for int() with base 10: '$'\n"
     ]
    }
   ],
   "source": [
    "try:\n",
    "    a = int(input('Enter first number: '))\n",
    "    b = int(input('Enter second number: '))\n",
    "\n",
    "    try:\n",
    "        print(a/b)\n",
    "    except ZeroDivisionError as message:\n",
    "        print(message)\n",
    "except ValueError as message:\n",
    "    print(message)"
   ]
  },
  {
   "attachments": {},
   "cell_type": "markdown",
   "metadata": {},
   "source": [
    "### User defined exception"
   ]
  },
  {
   "cell_type": "code",
   "execution_count": 29,
   "metadata": {},
   "outputs": [
    {
     "name": "stdout",
     "output_type": "stream",
     "text": [
      "your account is above accessing limit\n"
     ]
    }
   ],
   "source": [
    "bank_balance = int(input('enter your balance'))\n",
    "if bank_balance < 1000:\n",
    "    raise Exception('your account balance is below the accessing limit')\n",
    "else:\n",
    "    print('your account is above accessing limit')"
   ]
  }
 ],
 "metadata": {
  "kernelspec": {
   "display_name": "Python 3",
   "language": "python",
   "name": "python3"
  },
  "language_info": {
   "codemirror_mode": {
    "name": "ipython",
    "version": 3
   },
   "file_extension": ".py",
   "mimetype": "text/x-python",
   "name": "python",
   "nbconvert_exporter": "python",
   "pygments_lexer": "ipython3",
   "version": "3.10.6"
  },
  "orig_nbformat": 4,
  "vscode": {
   "interpreter": {
    "hash": "916dbcbb3f70747c44a77c7bcd40155683ae19c65e1c03b4aa3499c5328201f1"
   }
  }
 },
 "nbformat": 4,
 "nbformat_minor": 2
}
