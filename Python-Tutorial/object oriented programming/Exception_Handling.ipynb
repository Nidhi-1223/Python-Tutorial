{
  "nbformat": 4,
  "nbformat_minor": 0,
  "metadata": {
    "colab": {
      "provenance": [],
      "authorship_tag": "ABX9TyPcmY51H6KoRpvnfhtEvp09",
      "include_colab_link": true
    },
    "kernelspec": {
      "name": "python3",
      "display_name": "Python 3"
    },
    "language_info": {
      "name": "python"
    }
  },
  "cells": [
    {
      "cell_type": "markdown",
      "metadata": {
        "id": "view-in-github",
        "colab_type": "text"
      },
      "source": [
        "<a href=\"https://colab.research.google.com/github/Nidhi-1223/Python-Tutorial/blob/main/Python-Tutorial/object%20oriented%20programming/Exception_Handling.ipynb\" target=\"_parent\"><img src=\"https://colab.research.google.com/assets/colab-badge.svg\" alt=\"Open In Colab\"/></a>"
      ]
    },
    {
      "cell_type": "code",
      "execution_count": 1,
      "metadata": {
        "colab": {
          "base_uri": "https://localhost:8080/"
        },
        "id": "PVH0iUIRp_lm",
        "outputId": "d835b7c4-8943-4a1b-af0e-37147eedd1dd"
      },
      "outputs": [
        {
          "output_type": "stream",
          "name": "stdout",
          "text": [
            "Enter a number:6\n",
            "Enter other number:3\n",
            "C is 2.0\n"
          ]
        }
      ],
      "source": [
        "#we only trappiong error not what type\n",
        "a=int(input(\"Enter a number:\"))\n",
        "b=int(input(\"Enter other number:\"))\n",
        "c=a/b\n",
        "print (\"C is\",c)"
      ]
    },
    {
      "cell_type": "code",
      "source": [
        "try:\n",
        "    print('try block...\\n')\n",
        "    a=int(input(\"Enter a number:\"))\n",
        "    b=int(input(\"Enter other number:\"))\n",
        "    c=a/b\n",
        "except Exception:\n",
        "    print('\\nexception block...')\n",
        "    print(\"Exception\")\n",
        "else:\n",
        "    print('\\nelse block...')\n",
        "    print (\"C is\",c)\n",
        "finally:\n",
        "    print('\\nfinally block...')\n",
        "    print(\"by Nidhi\\n\")\n",
        "\n",
        "#code after exception\n",
        "print(\"still trying to live life\")\n",
        "print(\"alive and kicking\")"
      ],
      "metadata": {
        "colab": {
          "base_uri": "https://localhost:8080/"
        },
        "id": "bcahghxmq6MQ",
        "outputId": "88e165ca-68fc-4b37-eccc-52fc7e87731d"
      },
      "execution_count": 6,
      "outputs": [
        {
          "output_type": "stream",
          "name": "stdout",
          "text": [
            "try block...\n",
            "\n",
            "Enter a number:9\n",
            "Enter other number:gh\n",
            "\n",
            "exception block...\n",
            "Exception\n",
            "\n",
            "finally block...\n",
            "by Nidhi\n",
            "still trying to live life\n",
            "alive and kicking\n"
          ]
        }
      ]
    },
    {
      "cell_type": "code",
      "source": [
        "#specifiying what the exception is\n",
        "try:\n",
        "    a=int(input(\"Enter a number:\"))\n",
        "    b=int(input(\"Enter other number:\"))\n",
        "    c=a/b\n",
        "    print (\"C is\",c)\n",
        "except Exception as arg:\n",
        "    print(\"Exception:\",arg)\n",
        "finally:\n",
        "    print(\"by Nidhi\")\n",
        "print(\"still trying to live life\")\n",
        "print(\"alive and kicking\")"
      ],
      "metadata": {
        "colab": {
          "base_uri": "https://localhost:8080/"
        },
        "id": "DoDsbgWEspUE",
        "outputId": "2fb060e6-b73c-4784-bb24-6df30c9c83b8"
      },
      "execution_count": 8,
      "outputs": [
        {
          "output_type": "stream",
          "name": "stdout",
          "text": [
            "Enter a number:4\n",
            "Enter other number:0\n",
            "Exception: division by zero\n",
            "by Amar sir\n",
            "still trying to live life\n",
            "alive and kicking\n"
          ]
        }
      ]
    },
    {
      "cell_type": "code",
      "source": [
        "try:\n",
        "    a=int(input(\"Enter a number:\"))\n",
        "    b=int(input(\"Enter other number:\"))\n",
        "    c=a/b\n",
        "    print (\"C is\",c)\n",
        "\n",
        "finally:\n",
        "    print(\"by Nidhi\")\n",
        "print(\"still trying to live life\")\n",
        "print(\"alive and kicking\")\n",
        "\n",
        "'''\n",
        "here, we dont have an except block. The code still runs fine, if there arent any exception happening. \n",
        "In case of an exception, the finally block is still executed and then the program gives out an error. The print statements after the finally block are not executed.\n",
        "'''"
      ],
      "metadata": {
        "colab": {
          "base_uri": "https://localhost:8080/",
          "height": 287
        },
        "id": "4n8vqzKNtd8s",
        "outputId": "57c3ff44-433e-4a2f-ad6f-9e7e58027cee"
      },
      "execution_count": 10,
      "outputs": [
        {
          "output_type": "stream",
          "name": "stdout",
          "text": [
            "Enter a number:4\n",
            "Enter other number:0\n",
            "by Nidhi\n"
          ]
        },
        {
          "output_type": "error",
          "ename": "ZeroDivisionError",
          "evalue": "ignored",
          "traceback": [
            "\u001b[0;31m---------------------------------------------------------------------------\u001b[0m",
            "\u001b[0;31mZeroDivisionError\u001b[0m                         Traceback (most recent call last)",
            "\u001b[0;32m<ipython-input-10-7ac4d057742b>\u001b[0m in \u001b[0;36m<module>\u001b[0;34m\u001b[0m\n\u001b[1;32m      2\u001b[0m     \u001b[0ma\u001b[0m\u001b[0;34m=\u001b[0m\u001b[0mint\u001b[0m\u001b[0;34m(\u001b[0m\u001b[0minput\u001b[0m\u001b[0;34m(\u001b[0m\u001b[0;34m\"Enter a number:\"\u001b[0m\u001b[0;34m)\u001b[0m\u001b[0;34m)\u001b[0m\u001b[0;34m\u001b[0m\u001b[0;34m\u001b[0m\u001b[0m\n\u001b[1;32m      3\u001b[0m     \u001b[0mb\u001b[0m\u001b[0;34m=\u001b[0m\u001b[0mint\u001b[0m\u001b[0;34m(\u001b[0m\u001b[0minput\u001b[0m\u001b[0;34m(\u001b[0m\u001b[0;34m\"Enter other number:\"\u001b[0m\u001b[0;34m)\u001b[0m\u001b[0;34m)\u001b[0m\u001b[0;34m\u001b[0m\u001b[0;34m\u001b[0m\u001b[0m\n\u001b[0;32m----> 4\u001b[0;31m     \u001b[0mc\u001b[0m\u001b[0;34m=\u001b[0m\u001b[0ma\u001b[0m\u001b[0;34m/\u001b[0m\u001b[0mb\u001b[0m\u001b[0;34m\u001b[0m\u001b[0;34m\u001b[0m\u001b[0m\n\u001b[0m\u001b[1;32m      5\u001b[0m     \u001b[0mprint\u001b[0m \u001b[0;34m(\u001b[0m\u001b[0;34m\"C is\"\u001b[0m\u001b[0;34m,\u001b[0m\u001b[0mc\u001b[0m\u001b[0;34m)\u001b[0m\u001b[0;34m\u001b[0m\u001b[0;34m\u001b[0m\u001b[0m\n\u001b[1;32m      6\u001b[0m \u001b[0;34m\u001b[0m\u001b[0m\n",
            "\u001b[0;31mZeroDivisionError\u001b[0m: division by zero"
          ]
        }
      ]
    },
    {
      "cell_type": "markdown",
      "source": [
        "### User Defined Exceptions\n",
        "What if you wanna create your own exceptions?"
      ],
      "metadata": {
        "id": "9Yyi-39xu4wV"
      }
    },
    {
      "cell_type": "code",
      "source": [
        "class AgeException(Exception):\n",
        "  def __init__(self, data):\n",
        "    self.data = data\n",
        "  def __str__(self):      \n",
        "    return \"Exception : \"+str(self.data)+\" Under 18\"\n",
        "    # str(self.data) is typecasting integer to string.\n",
        "\n",
        "\n",
        "try:\n",
        "  n = int(input('Enter your age : '))\n",
        "  if n>18:\n",
        "    print(f'you can vote, your age is {n}')\n",
        "  else:\n",
        "    raise AgeException(n)\n",
        "except Exception as msg:\n",
        "  print(msg)\n"
      ],
      "metadata": {
        "colab": {
          "base_uri": "https://localhost:8080/"
        },
        "id": "5Gx1Ohbku9SD",
        "outputId": "52ea9d55-cc8c-447a-9783-98e2ce9dcb52"
      },
      "execution_count": 12,
      "outputs": [
        {
          "output_type": "stream",
          "name": "stdout",
          "text": [
            "Enter your age : 8\n",
            "Exception : 8 Under 18\n"
          ]
        }
      ]
    }
  ]
}